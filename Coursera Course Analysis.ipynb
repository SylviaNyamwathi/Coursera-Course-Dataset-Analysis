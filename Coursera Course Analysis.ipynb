{
 "cells": [
  {
   "cell_type": "markdown",
   "metadata": {},
   "source": [
    "# **Coursera Course Dataset Analysis**"
   ]
  },
  {
   "cell_type": "markdown",
   "metadata": {},
   "source": [
    "As a data analyst at a tech company, you’ve been approached by a colleague from HR with a request to analyze a Coursera course dataset. The goal is to identify suitable courses for upskilling employees across different departments. The company is not ready to invest in an enterprise subscription, so the focus is on finding high-impact courses that maximize value for the organization’s varied skill sets and experience levels.\n",
    "\n",
    "**Hypotheses and Questions:**\n",
    "\n",
    "1. **AI Relevance:**\n",
    "\n",
    " - Hypothesis: Courses related to AI will be among the most beneficial for employees across various departments.\n",
    " - Questions:\n",
    "   - Which course would likely be beneficial for employees across various departments?\n",
    "\n",
    "2. **Broad Impact Courses:**\n",
    "\n",
    " - Hypothesis: Courses with broad applicability (e.g., data literacy, Python programming, marketing analytics) will provide cross-departmental value.\n",
    " - Questions:\n",
    "   - Which courses focus on foundational or widely applicable skills like data analysis, Python, and marketing?\n",
    "   - Are these courses well-rated and accessible to employees at different experience levels?\n",
    "\n",
    "3. **Targeting Department Needs:**\n",
    "\n",
    " - Hypothesis: Each department can benefit from courses tailored to their specific needs (e.g., Python courses for developers, data visualization for the data team, people management for HR, digital marketing for Marketing).\n",
    " - Questions:\n",
    "   - Which courses align with the unique needs of each department?\n",
    "   - Are there specific skills or knowledge areas that are notably missing from the available course selection?"
   ]
  },
  {
   "cell_type": "markdown",
   "metadata": {},
   "source": [
    "### **Analysis Steps:**\n",
    "\n",
    "1. **Data Cleaning:** Ensure data is accurate and clean (handle missing values, format data consistently).\n",
    "2. **Exploratory Data Analysis (EDA):**\n",
    "   - Visualize course ratings, enrollment numbers, and course categories.\n",
    "   - Analyze the prevalence of AI-related courses and other relevant topics.\n",
    "   - Examine course difficulty levels and assess how well they meet different seniority needs.\n",
    "3. **Department-Specific Analysis:**\n",
    "   - Filter and identify courses that match the specific needs of marketing, development, HR, and management teams.\n",
    "4. **Recommendation Development:**\n",
    "   - Summarize findings and highlight top courses for upskilling in AI and relevant department-specific topics.\n",
    "   - Recommend courses based on cross-departmental value, skill level diversity, and cost-effectiveness."
   ]
  },
  {
   "cell_type": "markdown",
   "metadata": {},
   "source": [
    "### **Step 1: Load the data**"
   ]
  },
  {
   "cell_type": "code",
   "execution_count": 53,
   "metadata": {},
   "outputs": [],
   "source": [
    "import numpy as np\n",
    "import pandas as pd\n",
    "import matplotlib.pyplot as plt\n",
    "import seaborn as sns\n",
    "import plotly.express as px\n",
    "from scipy import stats\n",
    "%matplotlib inline"
   ]
  },
  {
   "cell_type": "code",
   "execution_count": 54,
   "metadata": {},
   "outputs": [
    {
     "data": {
      "text/html": [
       "<div>\n",
       "<style scoped>\n",
       "    .dataframe tbody tr th:only-of-type {\n",
       "        vertical-align: middle;\n",
       "    }\n",
       "\n",
       "    .dataframe tbody tr th {\n",
       "        vertical-align: top;\n",
       "    }\n",
       "\n",
       "    .dataframe thead th {\n",
       "        text-align: right;\n",
       "    }\n",
       "</style>\n",
       "<table border=\"1\" class=\"dataframe\">\n",
       "  <thead>\n",
       "    <tr style=\"text-align: right;\">\n",
       "      <th></th>\n",
       "      <th>course_title</th>\n",
       "      <th>course_organization</th>\n",
       "      <th>course_Certificate_type</th>\n",
       "      <th>course_rating</th>\n",
       "      <th>course_difficulty</th>\n",
       "      <th>course_students_enrolled</th>\n",
       "    </tr>\n",
       "    <tr>\n",
       "      <th>Column1</th>\n",
       "      <th></th>\n",
       "      <th></th>\n",
       "      <th></th>\n",
       "      <th></th>\n",
       "      <th></th>\n",
       "      <th></th>\n",
       "    </tr>\n",
       "  </thead>\n",
       "  <tbody>\n",
       "    <tr>\n",
       "      <th>134</th>\n",
       "      <td>(ISC)² Systems Security Certified Practitioner...</td>\n",
       "      <td>(ISC)²</td>\n",
       "      <td>SPECIALIZATION</td>\n",
       "      <td>4.7</td>\n",
       "      <td>Beginner</td>\n",
       "      <td>5.3k</td>\n",
       "    </tr>\n",
       "    <tr>\n",
       "      <th>743</th>\n",
       "      <td>A Crash Course in Causality:  Inferring Causal...</td>\n",
       "      <td>University of Pennsylvania</td>\n",
       "      <td>COURSE</td>\n",
       "      <td>4.7</td>\n",
       "      <td>Intermediate</td>\n",
       "      <td>17k</td>\n",
       "    </tr>\n",
       "    <tr>\n",
       "      <th>874</th>\n",
       "      <td>A Crash Course in Data Science</td>\n",
       "      <td>Johns Hopkins University</td>\n",
       "      <td>COURSE</td>\n",
       "      <td>4.5</td>\n",
       "      <td>Mixed</td>\n",
       "      <td>130k</td>\n",
       "    </tr>\n",
       "    <tr>\n",
       "      <th>413</th>\n",
       "      <td>A Law Student's Toolkit</td>\n",
       "      <td>Yale University</td>\n",
       "      <td>COURSE</td>\n",
       "      <td>4.7</td>\n",
       "      <td>Mixed</td>\n",
       "      <td>91k</td>\n",
       "    </tr>\n",
       "    <tr>\n",
       "      <th>635</th>\n",
       "      <td>A Life of Happiness and Fulfillment</td>\n",
       "      <td>Indian School of Business</td>\n",
       "      <td>COURSE</td>\n",
       "      <td>4.8</td>\n",
       "      <td>Mixed</td>\n",
       "      <td>320k</td>\n",
       "    </tr>\n",
       "  </tbody>\n",
       "</table>\n",
       "</div>"
      ],
      "text/plain": [
       "                                              course_title  \\\n",
       "Column1                                                      \n",
       "134      (ISC)² Systems Security Certified Practitioner...   \n",
       "743      A Crash Course in Causality:  Inferring Causal...   \n",
       "874                         A Crash Course in Data Science   \n",
       "413                                A Law Student's Toolkit   \n",
       "635                    A Life of Happiness and Fulfillment   \n",
       "\n",
       "                course_organization course_Certificate_type  course_rating  \\\n",
       "Column1                                                                      \n",
       "134                          (ISC)²          SPECIALIZATION            4.7   \n",
       "743      University of Pennsylvania                  COURSE            4.7   \n",
       "874        Johns Hopkins University                  COURSE            4.5   \n",
       "413                 Yale University                  COURSE            4.7   \n",
       "635       Indian School of Business                  COURSE            4.8   \n",
       "\n",
       "        course_difficulty course_students_enrolled  \n",
       "Column1                                             \n",
       "134              Beginner                     5.3k  \n",
       "743          Intermediate                      17k  \n",
       "874                 Mixed                     130k  \n",
       "413                 Mixed                      91k  \n",
       "635                 Mixed                     320k  "
      ]
     },
     "execution_count": 54,
     "metadata": {},
     "output_type": "execute_result"
    }
   ],
   "source": [
    "#  course_data = pd.read_csv(\"coursea_data.csv\")\n",
    "course_data = pd.read_csv((\"coursea_data.csv\"), index_col=0)\n",
    "course_data.head()"
   ]
  },
  {
   "cell_type": "markdown",
   "metadata": {},
   "source": [
    "### **Step 2: Data Cleaning**"
   ]
  },
  {
   "cell_type": "markdown",
   "metadata": {},
   "source": [
    "#### 2.1 Handling Missing Values: We'll check for missing values using the combination of isna() and sum() methods. If it returns zero, we have no missing values to deal with."
   ]
  },
  {
   "cell_type": "code",
   "execution_count": 55,
   "metadata": {},
   "outputs": [
    {
     "data": {
      "text/plain": [
       "course_title                0\n",
       "course_organization         0\n",
       "course_Certificate_type     0\n",
       "course_rating               0\n",
       "course_difficulty           0\n",
       "course_students_enrolled    0\n",
       "dtype: int64"
      ]
     },
     "execution_count": 55,
     "metadata": {},
     "output_type": "execute_result"
    }
   ],
   "source": [
    "course_data.isna().sum()"
   ]
  },
  {
   "cell_type": "markdown",
   "metadata": {},
   "source": [
    "#### 2.2 Removing Duplicates: Using the duplicated() method, we check if there are repetitive entries in the dataset."
   ]
  },
  {
   "cell_type": "code",
   "execution_count": 56,
   "metadata": {},
   "outputs": [
    {
     "data": {
      "text/plain": [
       "0"
      ]
     },
     "execution_count": 56,
     "metadata": {},
     "output_type": "execute_result"
    }
   ],
   "source": [
    "course_data.duplicated().sum()"
   ]
  },
  {
   "cell_type": "code",
   "execution_count": 57,
   "metadata": {},
   "outputs": [
    {
     "name": "stdout",
     "output_type": "stream",
     "text": [
      "<class 'pandas.core.frame.DataFrame'>\n",
      "Index: 891 entries, 134 to 163\n",
      "Data columns (total 6 columns):\n",
      " #   Column                    Non-Null Count  Dtype  \n",
      "---  ------                    --------------  -----  \n",
      " 0   course_title              891 non-null    object \n",
      " 1   course_organization       891 non-null    object \n",
      " 2   course_Certificate_type   891 non-null    object \n",
      " 3   course_rating             891 non-null    float64\n",
      " 4   course_difficulty         891 non-null    object \n",
      " 5   course_students_enrolled  891 non-null    object \n",
      "dtypes: float64(1), object(5)\n",
      "memory usage: 48.7+ KB\n"
     ]
    }
   ],
   "source": [
    "course_data.info()"
   ]
  },
  {
   "cell_type": "markdown",
   "metadata": {},
   "source": [
    "#### 2.3 Let's look at the datatypes of each column."
   ]
  },
  {
   "cell_type": "markdown",
   "metadata": {},
   "source": [
    "From this we can infer that the majority of variables are object-type (in this case, strings), but we could also make the dataset more accessible for manipulation by converting some of the features:\n",
    "\n",
    "- into categorical: **course_difficulty** and **course_Certificate_type**;\n",
    "- into numerical: **course_students_enrolled**"
   ]
  },
  {
   "cell_type": "markdown",
   "metadata": {},
   "source": [
    "First, let's set features to categorical"
   ]
  },
  {
   "cell_type": "code",
   "execution_count": 58,
   "metadata": {},
   "outputs": [],
   "source": [
    "course_data['course_Certificate_type'] = course_data.course_Certificate_type.astype('category')\n",
    "course_data['course_difficulty'] = course_data.course_difficulty.astype('category')"
   ]
  },
  {
   "cell_type": "markdown",
   "metadata": {},
   "source": [
    "Setting enrolled student count to numerical:"
   ]
  },
  {
   "cell_type": "code",
   "execution_count": 59,
   "metadata": {},
   "outputs": [],
   "source": [
    "def value_to_float(x):\n",
    "   \n",
    "    if isinstance(x, str):\n",
    "        if 'k' in x:\n",
    "            return float(x.replace('k', '')) * 1000 if len(x) > 1 else 1000.0\n",
    "        if 'm' in x:\n",
    "            return float(x.replace('m', '')) * 1000000 if len(x) > 1 else 1000000.0\n",
    "   \n",
    "    elif isinstance(x, (int, float)):\n",
    "        return float(x)\n",
    "    \n",
    "    return 0.0  \n",
    "\n",
    "course_data['course_students_enrolled'] = course_data['course_students_enrolled'].apply(value_to_float)"
   ]
  },
  {
   "cell_type": "code",
   "execution_count": 60,
   "metadata": {},
   "outputs": [
    {
     "name": "stdout",
     "output_type": "stream",
     "text": [
      "<class 'pandas.core.frame.DataFrame'>\n",
      "Index: 891 entries, 134 to 163\n",
      "Data columns (total 6 columns):\n",
      " #   Column                    Non-Null Count  Dtype   \n",
      "---  ------                    --------------  -----   \n",
      " 0   course_title              891 non-null    object  \n",
      " 1   course_organization       891 non-null    object  \n",
      " 2   course_Certificate_type   891 non-null    category\n",
      " 3   course_rating             891 non-null    float64 \n",
      " 4   course_difficulty         891 non-null    category\n",
      " 5   course_students_enrolled  891 non-null    float64 \n",
      "dtypes: category(2), float64(2), object(2)\n",
      "memory usage: 36.9+ KB\n"
     ]
    }
   ],
   "source": [
    "course_data.info()"
   ]
  },
  {
   "cell_type": "markdown",
   "metadata": {},
   "source": [
    "### **Step 3: Exploratory Data Analysis (EDA)**\n",
    "EDA helps us understand the underlying patterns and relationships in the data."
   ]
  },
  {
   "cell_type": "markdown",
   "metadata": {},
   "source": [
    "Let's look at some summary statistics:\n",
    "- The most popular course\n",
    "- The least popular course\n",
    "- The best rated course\n",
    "- The worst rated course\n",
    "- The number of features\n",
    "- The number of observations\n",
    "- The institution with the most courses offered\n",
    "- The number of institutions offering courses"
   ]
  },
  {
   "cell_type": "code",
   "execution_count": 61,
   "metadata": {},
   "outputs": [
    {
     "name": "stdout",
     "output_type": "stream",
     "text": [
      "1. The most popular course is: \n",
      "\n"
     ]
    },
    {
     "data": {
      "text/plain": [
       "course_title                AI For Everyone\n",
       "course_organization         deeplearning.ai\n",
       "course_Certificate_type              COURSE\n",
       "course_rating                           4.8\n",
       "course_difficulty                  Beginner\n",
       "course_students_enrolled           350000.0\n",
       "Name: 54, dtype: object"
      ]
     },
     "execution_count": 61,
     "metadata": {},
     "output_type": "execute_result"
    }
   ],
   "source": [
    "print('1. The most popular course is: \\n')\n",
    "course_data.iloc[course_data['course_students_enrolled'].idxmax()]"
   ]
  },
  {
   "cell_type": "code",
   "execution_count": 62,
   "metadata": {},
   "outputs": [
    {
     "name": "stdout",
     "output_type": "stream",
     "text": [
      "2. The least popular course is: \n",
      "\n"
     ]
    },
    {
     "data": {
      "text/plain": [
       "course_title                Terrorism and Counterterrorism: Comparing Theo...\n",
       "course_organization                                       Universiteit Leiden\n",
       "course_Certificate_type                                                COURSE\n",
       "course_rating                                                             4.8\n",
       "course_difficulty                                                    Beginner\n",
       "course_students_enrolled                                              90000.0\n",
       "Name: 298, dtype: object"
      ]
     },
     "execution_count": 62,
     "metadata": {},
     "output_type": "execute_result"
    }
   ],
   "source": [
    "print('2. The least popular course is: \\n')\n",
    "course_data.iloc[course_data['course_students_enrolled'].idxmin()]"
   ]
  },
  {
   "cell_type": "code",
   "execution_count": 63,
   "metadata": {},
   "outputs": [
    {
     "name": "stdout",
     "output_type": "stream",
     "text": [
      "3. The best rated course is: \n",
      "\n"
     ]
    },
    {
     "data": {
      "text/plain": [
       "course_title                Terrorism and Counterterrorism: Comparing Theo...\n",
       "course_organization                                       Universiteit Leiden\n",
       "course_Certificate_type                                                COURSE\n",
       "course_rating                                                             4.8\n",
       "course_difficulty                                                    Beginner\n",
       "course_students_enrolled                                              90000.0\n",
       "Name: 298, dtype: object"
      ]
     },
     "execution_count": 63,
     "metadata": {},
     "output_type": "execute_result"
    }
   ],
   "source": [
    "print('3. The best rated course is: \\n')\n",
    "course_data.iloc[course_data['course_rating'].idxmax()]"
   ]
  },
  {
   "cell_type": "code",
   "execution_count": 64,
   "metadata": {},
   "outputs": [
    {
     "name": "stdout",
     "output_type": "stream",
     "text": [
      "4. The worst rated course is: \n",
      "\n"
     ]
    },
    {
     "data": {
      "text/plain": [
       "course_title                                    Supply Chain Analytics\n",
       "course_organization         Rutgers the State University of New Jersey\n",
       "course_Certificate_type                                         COURSE\n",
       "course_rating                                                      4.7\n",
       "course_difficulty                                             Beginner\n",
       "course_students_enrolled                                        7900.0\n",
       "Name: 483, dtype: object"
      ]
     },
     "execution_count": 64,
     "metadata": {},
     "output_type": "execute_result"
    }
   ],
   "source": [
    "print('4. The worst rated course is: \\n')\n",
    "course_data.iloc[course_data['course_rating'].idxmin()]"
   ]
  },
  {
   "cell_type": "code",
   "execution_count": 65,
   "metadata": {},
   "outputs": [
    {
     "name": "stdout",
     "output_type": "stream",
     "text": [
      "5. The number of features in the set: \n",
      "\n",
      "There are 6 features in this set\n"
     ]
    }
   ],
   "source": [
    "print('5. The number of features in the set: \\n')\n",
    "print(f'There are {len(course_data.columns)} features in this set')"
   ]
  },
  {
   "cell_type": "code",
   "execution_count": 66,
   "metadata": {},
   "outputs": [
    {
     "name": "stdout",
     "output_type": "stream",
     "text": [
      "6. The number of observations in the set: \n",
      "\n",
      "There are 891 observations in this set\n"
     ]
    }
   ],
   "source": [
    "print('6. The number of observations in the set: \\n')\n",
    "print(f'There are {len(course_data.index)} observations in this set')"
   ]
  },
  {
   "cell_type": "code",
   "execution_count": 67,
   "metadata": {},
   "outputs": [
    {
     "name": "stdout",
     "output_type": "stream",
     "text": [
      "7. The organization with most courses: \n",
      "\n",
      "The most courses are offered by University of Pennsylvania, offering 59 courses.\n"
     ]
    }
   ],
   "source": [
    "print('7. The organization with most courses: \\n')\n",
    "print(f\"The most courses are offered by {course_data['course_organization'].value_counts().idxmax()}, offering {course_data['course_organization'].value_counts().max()} courses.\")"
   ]
  },
  {
   "cell_type": "code",
   "execution_count": 68,
   "metadata": {},
   "outputs": [
    {
     "name": "stdout",
     "output_type": "stream",
     "text": [
      "8. The courses are offered by 154 different institutions.\n"
     ]
    }
   ],
   "source": [
    "print(f\"8. The courses are offered by {course_data['course_organization'].value_counts().count()} different institutions.\")"
   ]
  },
  {
   "cell_type": "code",
   "execution_count": 69,
   "metadata": {},
   "outputs": [
    {
     "data": {
      "text/html": [
       "<div>\n",
       "<style scoped>\n",
       "    .dataframe tbody tr th:only-of-type {\n",
       "        vertical-align: middle;\n",
       "    }\n",
       "\n",
       "    .dataframe tbody tr th {\n",
       "        vertical-align: top;\n",
       "    }\n",
       "\n",
       "    .dataframe thead th {\n",
       "        text-align: right;\n",
       "    }\n",
       "</style>\n",
       "<table border=\"1\" class=\"dataframe\">\n",
       "  <thead>\n",
       "    <tr style=\"text-align: right;\">\n",
       "      <th></th>\n",
       "      <th>course_title</th>\n",
       "      <th>course_rating</th>\n",
       "      <th>course_students_enrolled</th>\n",
       "    </tr>\n",
       "    <tr>\n",
       "      <th>Column1</th>\n",
       "      <th></th>\n",
       "      <th></th>\n",
       "      <th></th>\n",
       "    </tr>\n",
       "  </thead>\n",
       "  <tbody>\n",
       "    <tr>\n",
       "      <th>6</th>\n",
       "      <td>Machine Learning</td>\n",
       "      <td>4.9</td>\n",
       "      <td>3200000.0</td>\n",
       "    </tr>\n",
       "    <tr>\n",
       "      <th>13</th>\n",
       "      <td>Data Science</td>\n",
       "      <td>4.5</td>\n",
       "      <td>830000.0</td>\n",
       "    </tr>\n",
       "    <tr>\n",
       "      <th>15</th>\n",
       "      <td>Data Science: Foundations using R</td>\n",
       "      <td>4.6</td>\n",
       "      <td>740000.0</td>\n",
       "    </tr>\n",
       "    <tr>\n",
       "      <th>5</th>\n",
       "      <td>Deep Learning</td>\n",
       "      <td>4.8</td>\n",
       "      <td>690000.0</td>\n",
       "    </tr>\n",
       "    <tr>\n",
       "      <th>62</th>\n",
       "      <td>Neural Networks and Deep Learning</td>\n",
       "      <td>4.9</td>\n",
       "      <td>630000.0</td>\n",
       "    </tr>\n",
       "  </tbody>\n",
       "</table>\n",
       "</div>"
      ],
      "text/plain": [
       "                              course_title  course_rating  \\\n",
       "Column1                                                     \n",
       "6                         Machine Learning            4.9   \n",
       "13                            Data Science            4.5   \n",
       "15       Data Science: Foundations using R            4.6   \n",
       "5                            Deep Learning            4.8   \n",
       "62       Neural Networks and Deep Learning            4.9   \n",
       "\n",
       "         course_students_enrolled  \n",
       "Column1                            \n",
       "6                       3200000.0  \n",
       "13                       830000.0  \n",
       "15                       740000.0  \n",
       "5                        690000.0  \n",
       "62                       630000.0  "
      ]
     },
     "execution_count": 69,
     "metadata": {},
     "output_type": "execute_result"
    }
   ],
   "source": [
    "ai_keywords = ['AI', 'Machine Learning', 'Deep Learning', 'Data Science']\n",
    "ai_courses = course_data[course_data['course_title'].str.contains('|'.join(ai_keywords), case=False)]\n",
    "ai_courses_summary = ai_courses[['course_title', 'course_rating', 'course_students_enrolled']]\n",
    "ai_courses_summary_sorted = ai_courses_summary.sort_values(by='course_students_enrolled', ascending=False)\n",
    "ai_courses_summary_sorted.head()"
   ]
  },
  {
   "cell_type": "code",
   "execution_count": 70,
   "metadata": {},
   "outputs": [
    {
     "data": {
      "text/html": [
       "<div>\n",
       "<style scoped>\n",
       "    .dataframe tbody tr th:only-of-type {\n",
       "        vertical-align: middle;\n",
       "    }\n",
       "\n",
       "    .dataframe tbody tr th {\n",
       "        vertical-align: top;\n",
       "    }\n",
       "\n",
       "    .dataframe thead th {\n",
       "        text-align: right;\n",
       "    }\n",
       "</style>\n",
       "<table border=\"1\" class=\"dataframe\">\n",
       "  <thead>\n",
       "    <tr style=\"text-align: right;\">\n",
       "      <th></th>\n",
       "      <th>course_title</th>\n",
       "      <th>course_organization</th>\n",
       "      <th>course_Certificate_type</th>\n",
       "      <th>course_rating</th>\n",
       "      <th>course_difficulty</th>\n",
       "      <th>course_students_enrolled</th>\n",
       "    </tr>\n",
       "    <tr>\n",
       "      <th>Column1</th>\n",
       "      <th></th>\n",
       "      <th></th>\n",
       "      <th></th>\n",
       "      <th></th>\n",
       "      <th></th>\n",
       "      <th></th>\n",
       "    </tr>\n",
       "  </thead>\n",
       "  <tbody>\n",
       "    <tr>\n",
       "      <th>6</th>\n",
       "      <td>Machine Learning</td>\n",
       "      <td>Stanford University</td>\n",
       "      <td>COURSE</td>\n",
       "      <td>4.9</td>\n",
       "      <td>Mixed</td>\n",
       "      <td>3200000.0</td>\n",
       "    </tr>\n",
       "    <tr>\n",
       "      <th>62</th>\n",
       "      <td>Neural Networks and Deep Learning</td>\n",
       "      <td>deeplearning.ai</td>\n",
       "      <td>COURSE</td>\n",
       "      <td>4.9</td>\n",
       "      <td>Intermediate</td>\n",
       "      <td>630000.0</td>\n",
       "    </tr>\n",
       "    <tr>\n",
       "      <th>249</th>\n",
       "      <td>Understanding the Brain: The Neurobiology of E...</td>\n",
       "      <td>The University of Chicago</td>\n",
       "      <td>COURSE</td>\n",
       "      <td>4.9</td>\n",
       "      <td>Beginner</td>\n",
       "      <td>130000.0</td>\n",
       "    </tr>\n",
       "    <tr>\n",
       "      <th>318</th>\n",
       "      <td>In the Studio: Postwar Abstract Painting</td>\n",
       "      <td>The Museum of Modern Art</td>\n",
       "      <td>COURSE</td>\n",
       "      <td>4.9</td>\n",
       "      <td>Beginner</td>\n",
       "      <td>79000.0</td>\n",
       "    </tr>\n",
       "  </tbody>\n",
       "</table>\n",
       "</div>"
      ],
      "text/plain": [
       "                                              course_title  \\\n",
       "Column1                                                      \n",
       "6                                         Machine Learning   \n",
       "62                       Neural Networks and Deep Learning   \n",
       "249      Understanding the Brain: The Neurobiology of E...   \n",
       "318               In the Studio: Postwar Abstract Painting   \n",
       "\n",
       "               course_organization course_Certificate_type  course_rating  \\\n",
       "Column1                                                                     \n",
       "6              Stanford University                  COURSE            4.9   \n",
       "62                 deeplearning.ai                  COURSE            4.9   \n",
       "249      The University of Chicago                  COURSE            4.9   \n",
       "318       The Museum of Modern Art                  COURSE            4.9   \n",
       "\n",
       "        course_difficulty  course_students_enrolled  \n",
       "Column1                                              \n",
       "6                   Mixed                 3200000.0  \n",
       "62           Intermediate                  630000.0  \n",
       "249              Beginner                  130000.0  \n",
       "318              Beginner                   79000.0  "
      ]
     },
     "execution_count": 70,
     "metadata": {},
     "output_type": "execute_result"
    }
   ],
   "source": [
    "ai_courses_by_rating = ai_courses.sort_values(by=['course_rating', 'course_students_enrolled'], ascending=False)\n",
    "ai_courses_by_rating.head(4)"
   ]
  },
  {
   "cell_type": "code",
   "execution_count": 71,
   "metadata": {},
   "outputs": [
    {
     "data": {
      "text/html": [
       "<div>\n",
       "<style scoped>\n",
       "    .dataframe tbody tr th:only-of-type {\n",
       "        vertical-align: middle;\n",
       "    }\n",
       "\n",
       "    .dataframe tbody tr th {\n",
       "        vertical-align: top;\n",
       "    }\n",
       "\n",
       "    .dataframe thead th {\n",
       "        text-align: right;\n",
       "    }\n",
       "</style>\n",
       "<table border=\"1\" class=\"dataframe\">\n",
       "  <thead>\n",
       "    <tr style=\"text-align: right;\">\n",
       "      <th></th>\n",
       "      <th>course_title</th>\n",
       "      <th>course_organization</th>\n",
       "      <th>course_Certificate_type</th>\n",
       "      <th>course_rating</th>\n",
       "      <th>course_difficulty</th>\n",
       "      <th>course_students_enrolled</th>\n",
       "    </tr>\n",
       "    <tr>\n",
       "      <th>Column1</th>\n",
       "      <th></th>\n",
       "      <th></th>\n",
       "      <th></th>\n",
       "      <th></th>\n",
       "      <th></th>\n",
       "      <th></th>\n",
       "    </tr>\n",
       "  </thead>\n",
       "  <tbody>\n",
       "    <tr>\n",
       "      <th>824</th>\n",
       "      <td>Building Your Leadership Skills</td>\n",
       "      <td>HEC Paris</td>\n",
       "      <td>COURSE</td>\n",
       "      <td>4.5</td>\n",
       "      <td>Mixed</td>\n",
       "      <td>67000.0</td>\n",
       "    </tr>\n",
       "    <tr>\n",
       "      <th>890</th>\n",
       "      <td>Compassionate Leadership Through Service Learn...</td>\n",
       "      <td>University of Colorado Boulder</td>\n",
       "      <td>COURSE</td>\n",
       "      <td>4.9</td>\n",
       "      <td>Beginner</td>\n",
       "      <td>6400.0</td>\n",
       "    </tr>\n",
       "    <tr>\n",
       "      <th>775</th>\n",
       "      <td>Foundations of Everyday Leadership</td>\n",
       "      <td>University of Illinois at Urbana-Champaign</td>\n",
       "      <td>COURSE</td>\n",
       "      <td>4.8</td>\n",
       "      <td>Mixed</td>\n",
       "      <td>62000.0</td>\n",
       "    </tr>\n",
       "    <tr>\n",
       "      <th>845</th>\n",
       "      <td>High Performance Collaboration: Leadership, Te...</td>\n",
       "      <td>Northwestern University</td>\n",
       "      <td>COURSE</td>\n",
       "      <td>4.8</td>\n",
       "      <td>Mixed</td>\n",
       "      <td>46000.0</td>\n",
       "    </tr>\n",
       "  </tbody>\n",
       "</table>\n",
       "</div>"
      ],
      "text/plain": [
       "                                              course_title  \\\n",
       "Column1                                                      \n",
       "824                        Building Your Leadership Skills   \n",
       "890      Compassionate Leadership Through Service Learn...   \n",
       "775                     Foundations of Everyday Leadership   \n",
       "845      High Performance Collaboration: Leadership, Te...   \n",
       "\n",
       "                                course_organization course_Certificate_type  \\\n",
       "Column1                                                                       \n",
       "824                                       HEC Paris                  COURSE   \n",
       "890                  University of Colorado Boulder                  COURSE   \n",
       "775      University of Illinois at Urbana-Champaign                  COURSE   \n",
       "845                         Northwestern University                  COURSE   \n",
       "\n",
       "         course_rating course_difficulty  course_students_enrolled  \n",
       "Column1                                                             \n",
       "824                4.5             Mixed                   67000.0  \n",
       "890                4.9          Beginner                    6400.0  \n",
       "775                4.8             Mixed                   62000.0  \n",
       "845                4.8             Mixed                   46000.0  "
      ]
     },
     "execution_count": 71,
     "metadata": {},
     "output_type": "execute_result"
    }
   ],
   "source": [
    "department_keywords = {\n",
    "    'Python Developers': ['Python', 'Machine Learning', 'Deep Learning'],\n",
    "    'Data Team': ['Data Science', 'AI', 'Big Data'],\n",
    "    'HR': ['AI in HR', 'HR Tech'],\n",
    "    'Marketing': ['AI for Marketing', 'Digital Marketing'],\n",
    "    'Management': ['Leadership', 'AI for Business']\n",
    "}\n",
    "\n",
    "relevant_courses = {}\n",
    "for dept, keywords in department_keywords.items():\n",
    "    relevant_courses[dept] = course_data[course_data['course_title'].str.contains('|'.join(keywords), case=False)]\n",
    "\n",
    "relevant_courses['Management'].head(4)"
   ]
  },
  {
   "cell_type": "markdown",
   "metadata": {},
   "source": [
    "### **Step 4: Data Visualization**"
   ]
  },
  {
   "cell_type": "markdown",
   "metadata": {},
   "source": [
    "Correlation heatmap to show the relationship between two numerical columns: **course_rating** and **course_students_enrolled**"
   ]
  },
  {
   "cell_type": "code",
   "execution_count": 72,
   "metadata": {},
   "outputs": [
    {
     "data": {
      "image/png": "[encoded data removed]",
      "text/plain": [
       "<Figure size 800x600 with 2 Axes>"
      ]
     },
     "metadata": {},
     "output_type": "display_data"
    }
   ],
   "source": [
    "numerical_data = course_data[[\"course_rating\", \"course_students_enrolled\"]]\n",
    "\n",
    "correlation_matrix = numerical_data.corr()\n",
    "\n",
    "plt.figure(figsize=(8, 6))\n",
    "sns.heatmap(correlation_matrix, annot=True, cmap='coolwarm', fmt=\".2f\", cbar=True)\n",
    "plt.title(\"Correlation Heatmap\", fontsize=14)\n",
    "plt.show()"
   ]
  },
  {
   "cell_type": "markdown",
   "metadata": {},
   "source": [
    "**Diagonal Values (1.00):** These represent the correlation of each variable with itself, which is always 1 (or perfect correlation).\n",
    "\n",
    "**Off-Diagonal Value (0.07):** A correlation of 0.07 is very close to 0, which indicates almost no linear relationship between the course rating and the number of students enrolled.\n",
    "\n",
    "This means that the course rating does not seem to be strongly related to how many students enroll in a course."
   ]
  },
  {
   "cell_type": "code",
   "execution_count": 73,
   "metadata": {},
   "outputs": [
    {
     "data": {
      "text/plain": [
       "Text(0, 0.5, '')"
      ]
     },
     "execution_count": 73,
     "metadata": {},
     "output_type": "execute_result"
    },
    {
     "data": {
      "image/png": "[encoded data removed]",
      "text/plain": [
       "<Figure size 1000x600 with 1 Axes>"
      ]
     },
     "metadata": {},
     "output_type": "display_data"
    }
   ],
   "source": [
    "plt.figure(figsize=(10,6))\n",
    "plt.subplot(1, 2, 2)\n",
    "sns.histplot(course_data['course_rating'])\n",
    "plt.title('Courses by rating', pad=20, fontsize = 12)\n",
    "plt.xlabel('Course rating, 4–5', labelpad=20)\n",
    "plt.xlim(left=4)\n",
    "plt.ylabel('')"
   ]
  },
  {
   "cell_type": "markdown",
   "metadata": {},
   "source": [
    "### Plotting Categorical Features"
   ]
  },
  {
   "cell_type": "markdown",
   "metadata": {},
   "source": [
    "Let's explore **course organization** a bit further by categorizing the course providers to give us additional insights."
   ]
  },
  {
   "cell_type": "markdown",
   "metadata": {},
   "source": [
    "We can draft preliminary categories:\n",
    "\n",
    "- Universities/Colleges\n",
    "- Companies/Tech Firms\n",
    "- Business Schools\n",
    "- Non-Profit/Educational Organizations\n",
    "- Industry Certification/Professional Development"
   ]
  },
  {
   "cell_type": "code",
   "execution_count": 74,
   "metadata": {},
   "outputs": [],
   "source": [
    "course_data['course_organization_type'] = 'NaN'\n",
    "course_data = course_data[['course_title',\n",
    " 'course_organization',\n",
    " 'course_organization_type',\n",
    " 'course_Certificate_type',\n",
    " 'course_rating',\n",
    " 'course_difficulty',\n",
    " 'course_students_enrolled'\n",
    " ]]"
   ]
  },
  {
   "cell_type": "code",
   "execution_count": 75,
   "metadata": {},
   "outputs": [],
   "source": [
    "universities = [\n",
    "    'Yale University', 'University of Michigan', 'Stanford University',\n",
    "    'University of Pennsylvania', 'Macquarie University', 'Johns Hopkins University',\n",
    "    'University of Illinois at Urbana-Champaign', 'University of California, Irvine',\n",
    "    'Georgia Institute of Technology', 'Duke University', 'Columbia University',\n",
    "    'Northwestern University', 'Rutgers the State University of New Jersey',\n",
    "    'University of Minnesota', 'University of Virginia', 'Imperial College London',\n",
    "    'Arizona State University', 'Universitat Autònoma de Barcelona', 'Wesleyan University',\n",
    "    'University of Alberta', 'University of California, Davis', 'University of Geneva',\n",
    "    'University of Amsterdam', 'The Hong Kong University of Science and Technology',\n",
    "    'UNSW Sydney (The University of New South Wales)', 'Rice University',\n",
    "    'National Research University Higher School of Economics', 'Michigan State University',\n",
    "    'Pontificia Universidad Católica de Chile', 'Yonsei University', 'University of Colorado Boulder',\n",
    "    'University of California San Diego', 'University of Toronto', 'Peking University',\n",
    "    'University of Washington', 'University System of Georgia', 'West Virginia University',\n",
    "    'Saint Petersburg State University', 'New York University', 'Case Western Reserve University',\n",
    "    'The University of Edinburgh', 'The University of Sydney', 'University of Colorado System',\n",
    "    'Universidad Nacional Autónoma de México', 'University at Buffalo', 'Universidade de São Paulo',\n",
    "    'The University of Chicago', 'Goldsmiths, University of London', 'Erasmus University Rotterdam',\n",
    "    'University of Pittsburgh', 'Universiteit Leiden', 'Birkbeck, University of London',\n",
    "    'The University of North Carolina at Chapel Hill', 'Vanderbilt University',\n",
    "    'The George Washington University', 'University of Maryland, College Park', 'University of Cape Town',\n",
    "    'Emory University', 'Shanghai Jiao Tong University', 'University of Copenhagen',\n",
    "    'Tecnológico de Monterrey', 'Lund University', 'Nanyang Technological University, Singapore',\n",
    "    'Universidade Estadual de Campinas', 'Universidad de los Andes', 'Hebrew University of Jerusalem',\n",
    "    'University of Florida', 'The University of Melbourne', 'Universidad de Chile',\n",
    "    'University of London', 'McMaster University', 'Ludwig-Maximilians-Universität München (LMU)',\n",
    "    'University of California, Santa Cruz', 'The State University of New York',\n",
    "    'The Pennsylvania State University', 'Moscow Institute of Physics and Technology',\n",
    "    'Royal Holloway, University of London', 'Technical University of Denmark (DTU)',\n",
    "    'Eindhoven University of Technology', 'Novosibirsk State University', 'The University of Tokyo',\n",
    "    'University of Lausanne', 'Tel Aviv University', 'Luther College at the University of Regina',\n",
    "    'Peter the Great St. Petersburg Polytechnic University', 'Tsinghua University',\n",
    "    'Universitat de Barcelona', 'National Taiwan University', 'University of New Mexico',\n",
    "    'The University of Hong Kong', 'American Institute of Business and Economics'\n",
    "]\n",
    "\n",
    "tech_companies = [\n",
    "    'IBM', 'Google', 'Google Cloud', 'Amazon Web Services', 'Cisco', 'Atlassian',\n",
    "    'Mail.Ru Group', 'Cloudera', 'MathWorks', 'Crece con Google', 'Autodesk',\n",
    "    'Palo Alto Networks', 'JetBrains', 'Unity', 'Automation Anywhere', 'VMware',\n",
    "    'HubSpot Academy', 'ConsenSys Academy', 'ScrumTrek'\n",
    "]\n",
    "\n",
    "business_schools = [\n",
    "    'London Business School', 'HEC Paris', 'IE Business School', 'INSEAD', 'EDHEC Business School',\n",
    "    'ESSEC Business School', 'IESE Business School', 'Copenhagen Business School', 'Indian School of Business',\n",
    "    'ESCP Business School', 'ESADE Business and Law School', 'Fundação Instituto de Administração'\n",
    "]\n",
    "\n",
    "non_profit_organizations = [\n",
    "    'The Museum of Modern Art', 'American Museum of Natural History', 'E-Learning Development Fund',\n",
    "    'Institute for the Future', 'Ticket for Change', 'Kalshoven-Gieskes Forum',\n",
    "    'The Linux Foundation', 'National Arts Strategies', 'Bloomsbury Learning Exchange'\n",
    "]\n",
    "\n",
    "professional_certification_providers = [\n",
    "    '(ISC)²', 'SAS', 'LearnQuest', 'New York Institute of Finance'\n",
    "]\n",
    "\n",
    "def categorize_organization(org_name):\n",
    "    if org_name in universities:\n",
    "        return 'University'\n",
    "    elif org_name in tech_companies:\n",
    "        return 'Tech Company'\n",
    "    elif org_name in business_schools:\n",
    "        return 'Business School'\n",
    "    elif org_name in non_profit_organizations:\n",
    "        return 'Non-Profit/Educational Organization'\n",
    "    elif org_name in professional_certification_providers:\n",
    "        return 'Professional Certification Provider'\n",
    "    else:\n",
    "        return 'Other'\n",
    "\n",
    "course_data['course_organization_type'] = course_data['course_organization_type'].replace(to_replace=\"NaN\", value=\"Other\")"
   ]
  },
  {
   "cell_type": "code",
   "execution_count": 76,
   "metadata": {},
   "outputs": [
    {
     "data": {
      "image/png": "[encoded data removed]",
      "text/plain": [
       "<Figure size 800x800 with 1 Axes>"
      ]
     },
     "metadata": {},
     "output_type": "display_data"
    }
   ],
   "source": [
    "categories = ['University', 'Tech Company', 'Research Institute', 'Business School', 'NGO']\n",
    "counts = [40, 25, 15, 10, 10]  \n",
    "\n",
    "plt.figure(figsize=(8, 8))\n",
    "plt.pie(counts, labels=categories, autopct='%1.0f%%', startangle=140, colors=plt.cm.Paired.colors)\n",
    "plt.title('Distribution of Organization Types')\n",
    "plt.show()"
   ]
  },
  {
   "cell_type": "markdown",
   "metadata": {},
   "source": [
    "In summary, the data shows a strong dominance of **universities**, followed by **tech companies**, with research institutes and NGOs being less common among the organizations in this dataset. \n",
    "\n",
    "The distribution hints at a strategy geared toward fostering innovation through academia and technology, with research support and occasional social impact considerations, indicating a broad but prioritized approach to organizational collaboration."
   ]
  },
  {
   "cell_type": "markdown",
   "metadata": {},
   "source": [
    "Now, let's see how we could plot the remainder categorical values."
   ]
  },
  {
   "cell_type": "code",
   "execution_count": 77,
   "metadata": {},
   "outputs": [
    {
     "data": {
      "image/png": "[encoded data removed]",
      "text/plain": [
       "<Figure size 1000x200 with 1 Axes>"
      ]
     },
     "metadata": {},
     "output_type": "display_data"
    }
   ],
   "source": [
    "sns.set(font_scale=0.8)\n",
    "sns.set_style('whitegrid')\n",
    "sns.set_palette(sns.color_palette(\"Set2\"))\n",
    "ax= sns.catplot(course_data['course_Certificate_type'],\n",
    "            kind=\"count\",\n",
    "            height=2, \n",
    "            aspect=5,\n",
    "            width=0.5)\n",
    "plt.title('Courses by certificate type (count)', pad=20, fontsize = 12)\n",
    "plt.xlabel('Count', labelpad=20)\n",
    "plt.ylabel('Certificate type')\n",
    "for container in ax.ax.containers:\n",
    "    ax.ax.bar_label(container)\n",
    "plt.show()"
   ]
  },
  {
   "cell_type": "code",
   "execution_count": 78,
   "metadata": {},
   "outputs": [
    {
     "data": {
      "image/png": "[encoded data removed]",
      "text/plain": [
       "<Figure size 912.25x400 with 1 Axes>"
      ]
     },
     "metadata": {},
     "output_type": "display_data"
    }
   ],
   "source": [
    "ax=certificate_count = sns.catplot(data=course_data,\n",
    "            y='course_Certificate_type',\n",
    "            kind=\"count\",\n",
    "            hue=\"course_difficulty\",\n",
    "            height=4, \n",
    "            aspect=2,\n",
    "            width=0.6,\n",
    "            orient='h',\n",
    "            legend=True)\n",
    "plt.title('Courses by certificate type (count)', pad=20, fontsize = 12)\n",
    "certificate_count._legend.set_title(\"Course difficulty\")\n",
    "plt.xlabel('Count', labelpad=20)\n",
    "plt.ylabel('Certificate type')\n",
    "for container in ax.ax.containers:\n",
    "    ax.ax.bar_label(container)\n",
    "plt.show()"
   ]
  },
  {
   "cell_type": "markdown",
   "metadata": {},
   "source": [
    "## **EDA Insights**\n",
    "\n",
    "1. The most popular course is Machine Learning\n",
    "2. The least popular course is El Abogado del Futuro: Legaltech y la TransformaciÃ³n Digital del Derecho\n",
    "3. The best rated course is El Abogado del Futuro: Legaltech y la TransformaciÃ³n Digital del Derecho\n",
    "4. The worst rated course is How To Create a Website in a Weekend! (Project-Centered Course)\n",
    "5. The most courses are offered by University of Pennsylvania, offering 59 courses.\n",
    "6. The data shows a strong dominance of **universities**, followed by **tech companies**, with research institutes and NGOs being less common among the organizations in this dataset. \n",
    "\n"
   ]
  },
  {
   "cell_type": "markdown",
   "metadata": {},
   "source": [
    "## **Conclusion and Recommendation**\n",
    "- The course with the highest enrollment **(\"Machine Learning\")** indicates a broad interest in foundational AI courses, which would likely be beneficial for employees across various departments.\n",
    "\n",
    "- For broad organizational benefit, courses like **\"Machine Learning\"** could be prioritized due to its high enrollment and broad applicability to various teams.\n",
    "\n",
    "- More specialized courses **(e.g., \"AI For Medical Treatment\")** could be beneficial for departments with specific AI-related needs, such as healthcare or medical fields\n",
    "\n",
    "- **\"Machine Learning\"** and **\"Neural Networks and Deep Learning\"** should be prioritized as they have high ratings, cater to different experience levels, and cover core AI concepts that are applicable across departments like marketing, HR, Python developers, and the data team.\n",
    "\n",
    "- The **Digital Marketing** course is highly suitable for the marketing department because it focuses on a core skill set for marketers.\n",
    "\n",
    "- The current dataset was composed of mostly the object/categorical types of data, which limits the exploration, especially considering statistical inference, correlation and such.\n",
    "\n",
    "- One improvement could be made by normalizing the ratings of courses by taking into account their popularity and using Bayesian average to weigh the rating by enrollment number."
   ]
  }
 ],
 "metadata": {
  "kernelspec": {
   "display_name": "Python 3",
   "language": "python",
   "name": "python3"
  },
  "language_info": {
   "codemirror_mode": {
    "name": "ipython",
    "version": 3
   },
   "file_extension": ".py",
   "mimetype": "text/x-python",
   "name": "python",
   "nbconvert_exporter": "python",
   "pygments_lexer": "ipython3",
   "version": "3.12.4"
  }
 },
 "nbformat": 4,
 "nbformat_minor": 2
}
